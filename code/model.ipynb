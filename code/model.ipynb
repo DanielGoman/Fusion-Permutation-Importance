{
  "nbformat": 4,
  "nbformat_minor": 0,
  "metadata": {
    "kernelspec": {
      "display_name": "main",
      "language": "python",
      "name": "main"
    },
    "language_info": {
      "codemirror_mode": {
        "name": "ipython",
        "version": 3
      },
      "file_extension": ".py",
      "mimetype": "text/x-python",
      "name": "python",
      "nbconvert_exporter": "python",
      "pygments_lexer": "ipython3",
      "version": "3.8.5"
    },
    "colab": {
      "name": "model.ipynb",
      "provenance": [],
      "toc_visible": true
    }
  },
  "cells": [
    {
      "cell_type": "markdown",
      "metadata": {
        "id": "6mMM7Lycho4L"
      },
      "source": [
        "# Creating Benchmark Datasets and Defining the Model"
      ]
    },
    {
      "cell_type": "markdown",
      "metadata": {
        "id": "KvC4j8b2ho4N"
      },
      "source": [
        "## Data Genaration + Pre-Processing"
      ]
    },
    {
      "cell_type": "code",
      "metadata": {
        "id": "Fg_OPeK1ho4P"
      },
      "source": [
        "from sklearn.datasets import make_classification\n",
        "from sklearn.preprocessing import MinMaxScaler\n",
        "from sklearn.ensemble import RandomForestClassifier\n",
        "from sklearn.model_selection import RepeatedStratifiedKFold\n",
        "from sklearn.model_selection import RandomizedSearchCV\n",
        "from sklearn.metrics import mean_squared_error as MSE\n",
        "from scipy.special import softmax\n",
        "\n",
        "import numpy as np\n",
        "\n",
        "from datetime import datetime as time\n",
        "\n",
        "from pimp import permutation_importance"
      ],
      "execution_count": 1,
      "outputs": []
    },
    {
      "cell_type": "code",
      "metadata": {
        "id": "i6V6Y6rhho4Q"
      },
      "source": [
        "n_samples = 10000"
      ],
      "execution_count": 2,
      "outputs": []
    },
    {
      "cell_type": "code",
      "metadata": {
        "id": "qyDL1Pa5ho4Q"
      },
      "source": [
        "scaler = MinMaxScaler()"
      ],
      "execution_count": 3,
      "outputs": []
    },
    {
      "cell_type": "markdown",
      "metadata": {
        "id": "p_QZha5drypc"
      },
      "source": [
        "Creating a dataset to evaluate the best parameters for the RandomForest model"
      ]
    },
    {
      "cell_type": "code",
      "metadata": {
        "id": "W-eJ9g_Tho4R"
      },
      "source": [
        "eval_datasets = []\n",
        "for noise_std in [0, 2, 4]:\n",
        "    for informative_level in range(20, 101, 20): #in percents\n",
        "        for n_features in range(20, 101, 40):\n",
        "            X, y = make_classification(n_samples=n_samples,\n",
        "                                       n_features=n_features,\n",
        "                                       n_informative=int(informative_level * n_features / 100),\n",
        "                                       n_redundant=0)\n",
        "            # creating a noise with the same dimension as the dataset\n",
        "            noise = np.random.normal(0, noise_std, [n_samples, n_features])\n",
        "            X += noise\n",
        "            # normalising the input data to the range [0,1]\n",
        "            X = scaler.fit_transform(X)\n",
        "            eval_datasets.append((X, y))"
      ],
      "execution_count": 4,
      "outputs": []
    },
    {
      "cell_type": "markdown",
      "metadata": {
        "id": "9GoNCZtgr5fz"
      },
      "source": [
        "Creating a dataset to be used for the purposes of estimating the importance of features"
      ]
    },
    {
      "cell_type": "code",
      "metadata": {
        "id": "eQWDPoa0ho4R"
      },
      "source": [
        "X_train = []\n",
        "y_train = []\n",
        "informativeness = []\n",
        "for noise_std in [0, 4]:\n",
        "    for informative_level in [20]: #in percents\n",
        "        n_features = 60\n",
        "        n_informative = int(informative_level * n_features / 100)\n",
        "        \n",
        "        uniform_informativeness = 1 / n_informative\n",
        "        curr_informativeness = []\n",
        "        for feature in range(n_features):\n",
        "            if feature < n_informative:\n",
        "                curr_informativeness.append(uniform_informativeness)\n",
        "            else:\n",
        "                curr_informativeness.append(0)\n",
        "        informativeness.append(curr_informativeness)\n",
        "        \n",
        "        X, y = make_classification(n_samples=n_samples,\n",
        "                                    n_features=n_features,\n",
        "                                    n_informative=n_informative,\n",
        "                                    n_redundant=0)\n",
        "        # creating a noise with the same dimension as the dataset\n",
        "        noise = np.random.normal(0, noise_std, [n_samples, n_features])\n",
        "        X += noise\n",
        "        # normalising the input data to the range [0,1]\n",
        "        X = scaler.fit_transform(X)\n",
        "        X_train.append(X)\n",
        "        y_train.append(y)\n",
        "\n",
        "true_importance = np.mean(np.array(informativeness), axis=0)\n",
        "            \n",
        "X_train = np.vstack(X_train)\n",
        "y_train = np.hstack(y_train)"
      ],
      "execution_count": 5,
      "outputs": []
    },
    {
      "cell_type": "markdown",
      "metadata": {
        "id": "lkitSSDxho4S"
      },
      "source": [
        "## Model Optimization - Random Search for Classification"
      ]
    },
    {
      "cell_type": "code",
      "metadata": {
        "id": "GcU7MIU9ho4S"
      },
      "source": [
        "#define a model\n",
        "model = RandomForestClassifier()"
      ],
      "execution_count": null,
      "outputs": []
    },
    {
      "cell_type": "code",
      "metadata": {
        "id": "DXE9lnijho4T"
      },
      "source": [
        "# define evaluation\n",
        "cv = RepeatedStratifiedKFold(n_splits=5, n_repeats=2, random_state=1)"
      ],
      "execution_count": null,
      "outputs": []
    },
    {
      "cell_type": "code",
      "metadata": {
        "id": "qjbV8yegho4T"
      },
      "source": [
        "# define search space\n",
        "space = dict()\n",
        "space['n_estimators'] = list(range(500, 1001, 200))\n",
        "space['max_depth'] = list(range(3, 8))\n",
        "space['min_samples_split'] = list(range(1, 4))"
      ],
      "execution_count": null,
      "outputs": []
    },
    {
      "cell_type": "code",
      "metadata": {
        "id": "8sKf71VTho4U"
      },
      "source": [
        "# define search\n",
        "search = RandomizedSearchCV(model, space, n_iter=45, scoring='accuracy', n_jobs=-1, cv=cv, random_state=1, verbose=10)"
      ],
      "execution_count": null,
      "outputs": []
    },
    {
      "cell_type": "code",
      "metadata": {
        "id": "iEYJAweLho4U",
        "outputId": "4e024d0f-1fcc-468c-9cbb-4de8a05c2cb0"
      },
      "source": [
        "# execute search\n",
        "result = search.fit(X_train, y_train)"
      ],
      "execution_count": null,
      "outputs": [
        {
          "output_type": "stream",
          "text": [
            "Fitting 10 folds for each of 45 candidates, totalling 450 fits\n"
          ],
          "name": "stdout"
        },
        {
          "output_type": "stream",
          "text": [
            "[Parallel(n_jobs=-1)]: Using backend LokyBackend with 4 concurrent workers.\n",
            "[Parallel(n_jobs=-1)]: Done   5 tasks      | elapsed:    3.8s\n",
            "[Parallel(n_jobs=-1)]: Done  10 tasks      | elapsed:    4.4s\n",
            "[Parallel(n_jobs=-1)]: Done  17 tasks      | elapsed:    5.9s\n",
            "[Parallel(n_jobs=-1)]: Done  24 tasks      | elapsed:    7.3s\n",
            "[Parallel(n_jobs=-1)]: Done  33 tasks      | elapsed:  1.3min\n",
            "[Parallel(n_jobs=-1)]: Done  42 tasks      | elapsed:  4.0min\n",
            "[Parallel(n_jobs=-1)]: Done  53 tasks      | elapsed:  9.0min\n",
            "[Parallel(n_jobs=-1)]: Done  64 tasks      | elapsed: 13.0min\n",
            "[Parallel(n_jobs=-1)]: Done  77 tasks      | elapsed: 17.7min\n",
            "[Parallel(n_jobs=-1)]: Done  90 tasks      | elapsed: 22.8min\n",
            "[Parallel(n_jobs=-1)]: Done 105 tasks      | elapsed: 22.9min\n",
            "[Parallel(n_jobs=-1)]: Done 120 tasks      | elapsed: 23.6min\n",
            "[Parallel(n_jobs=-1)]: Done 137 tasks      | elapsed: 31.2min\n",
            "[Parallel(n_jobs=-1)]: Done 154 tasks      | elapsed: 40.6min\n",
            "[Parallel(n_jobs=-1)]: Done 173 tasks      | elapsed: 50.3min\n",
            "[Parallel(n_jobs=-1)]: Done 192 tasks      | elapsed: 53.1min\n",
            "[Parallel(n_jobs=-1)]: Done 213 tasks      | elapsed: 55.4min\n",
            "[Parallel(n_jobs=-1)]: Done 234 tasks      | elapsed: 68.4min\n",
            "[Parallel(n_jobs=-1)]: Done 257 tasks      | elapsed: 83.0min\n",
            "[Parallel(n_jobs=-1)]: Done 280 tasks      | elapsed: 91.8min\n",
            "[Parallel(n_jobs=-1)]: Done 305 tasks      | elapsed: 95.6min\n",
            "[Parallel(n_jobs=-1)]: Done 330 tasks      | elapsed: 111.7min\n",
            "[Parallel(n_jobs=-1)]: Done 357 tasks      | elapsed: 128.6min\n",
            "[Parallel(n_jobs=-1)]: Done 384 tasks      | elapsed: 128.8min\n",
            "[Parallel(n_jobs=-1)]: Done 413 tasks      | elapsed: 150.9min\n",
            "[Parallel(n_jobs=-1)]: Done 442 tasks      | elapsed: 184.8min\n",
            "[Parallel(n_jobs=-1)]: Done 450 out of 450 | elapsed: 196.6min finished\n"
          ],
          "name": "stderr"
        }
      ]
    },
    {
      "cell_type": "code",
      "metadata": {
        "id": "1dTCx2Nsho4V",
        "outputId": "4b366be0-66bb-4d5d-d196-b387036bd2ca"
      },
      "source": [
        "# summarize result\n",
        "print('Best Score: %s' % result.best_score_)\n",
        "print('Best Hyperparameters: %s' % result.best_params_)"
      ],
      "execution_count": null,
      "outputs": [
        {
          "output_type": "stream",
          "text": [
            "Best Score: 0.6869375000000001\n",
            "Best Hyperparameters: {'n_estimators': 700, 'min_samples_split': 2, 'max_depth': 7}\n"
          ],
          "name": "stdout"
        }
      ]
    },
    {
      "cell_type": "markdown",
      "metadata": {
        "id": "Tzrun_1uho4V"
      },
      "source": [
        "## Final Model"
      ]
    },
    {
      "cell_type": "code",
      "metadata": {
        "colab": {
          "base_uri": "https://localhost:8080/"
        },
        "id": "XNIePSDMho4V",
        "outputId": "893724a0-b671-4b9b-dc10-af7ef6d240d4"
      },
      "source": [
        "final_model = RandomForestClassifier(n_estimators=700,\n",
        "                                     max_depth=7,\n",
        "                                     min_samples_split=2,\n",
        "                                     bootstrap=True)\n",
        "\n",
        "start = time.now()\n",
        "final_model.fit(X_train, y_train)\n",
        "end = time.now()\n",
        "print(f'Finished fitting model in {(end - start)}')"
      ],
      "execution_count": 6,
      "outputs": [
        {
          "output_type": "stream",
          "text": [
            "Finished fitting model in 0:00:53.395958\n"
          ],
          "name": "stdout"
        }
      ]
    },
    {
      "cell_type": "markdown",
      "metadata": {
        "id": "ys2IsQsHsI9T"
      },
      "source": [
        "Performing the permutation importance using the model we trained on the simualted data"
      ]
    },
    {
      "cell_type": "code",
      "metadata": {
        "id": "nluryeTHho4W",
        "colab": {
          "base_uri": "https://localhost:8080/"
        },
        "outputId": "6e682b6f-ada2-422b-91a2-f0110a1a23fb"
      },
      "source": [
        "start = time.now()\r\n",
        "scores = permutation_importance(final_model, X_train, y_train)\r\n",
        "end = time.now()\r\n",
        "print(f'Finished permutation importance in {(end - start)}')\r\n",
        "\r\n",
        "for key, value in scores.items():\r\n",
        "    print(f'{key}:')\r\n",
        "    print(value)\r\n",
        "    print()"
      ],
      "execution_count": 7,
      "outputs": [
        {
          "output_type": "stream",
          "text": [
            "Finished permutation importance in 0:06:34.030857\n",
            "importances:\n",
            "[[-5.0000e-05  6.5000e-04  7.0000e-04  2.5000e-04  4.0000e-04]\n",
            " [ 1.5700e-02  1.4000e-02  1.4300e-02  1.3100e-02  1.3150e-02]\n",
            " [ 2.2150e-02  2.0100e-02  2.1750e-02  2.2200e-02  2.1450e-02]\n",
            " [ 2.5350e-02  2.5900e-02  2.4550e-02  2.6150e-02  2.4250e-02]\n",
            " [ 2.4900e-02  2.5250e-02  2.5350e-02  2.5500e-02  2.5250e-02]\n",
            " [ 2.8000e-02  2.8000e-02  2.8400e-02  2.8200e-02  2.8200e-02]\n",
            " [ 3.4500e-02  3.3250e-02  3.3400e-02  3.3000e-02  3.2300e-02]\n",
            " [ 3.3750e-02  3.3500e-02  3.2900e-02  3.3500e-02  3.3400e-02]\n",
            " [ 3.4050e-02  3.4250e-02  3.4150e-02  3.3800e-02  3.3800e-02]\n",
            " [ 3.4450e-02  3.4600e-02  3.3850e-02  3.4500e-02  3.4600e-02]\n",
            " [ 3.5300e-02  3.4700e-02  3.5350e-02  3.4950e-02  3.4800e-02]\n",
            " [ 4.9700e-02  4.9400e-02  5.0700e-02  5.1000e-02  5.2750e-02]\n",
            " [ 5.3650e-02  5.3800e-02  5.3800e-02  5.3400e-02  5.3500e-02]\n",
            " [ 5.3850e-02  5.4300e-02  5.4300e-02  5.4150e-02  5.4000e-02]\n",
            " [ 5.5650e-02  5.5550e-02  5.5250e-02  5.5700e-02  5.5850e-02]\n",
            " [ 5.6300e-02  5.6100e-02  5.6300e-02  5.6200e-02  5.6500e-02]\n",
            " [ 6.1550e-02  6.2000e-02  6.2750e-02  6.0900e-02  6.1450e-02]\n",
            " [ 1.3510e-01  1.2500e-01  1.3035e-01  1.3240e-01  1.3330e-01]\n",
            " [ 1.3430e-01  1.3395e-01  1.3390e-01  1.3435e-01  1.3475e-01]\n",
            " [ 1.3525e-01  1.3525e-01  1.3485e-01  1.3505e-01  1.3485e-01]\n",
            " [ 1.3520e-01  1.3535e-01  1.3540e-01  1.3525e-01  1.3535e-01]\n",
            " [ 1.3565e-01  1.3525e-01  1.3540e-01  1.3580e-01  1.3515e-01]\n",
            " [ 1.3580e-01  1.3550e-01  1.3590e-01  1.3585e-01  1.3570e-01]\n",
            " [ 1.3680e-01  1.3655e-01  1.3660e-01  1.3670e-01  1.3600e-01]\n",
            " [ 1.3765e-01  1.3750e-01  1.3735e-01  1.3820e-01  1.3765e-01]\n",
            " [ 2.0190e-01  1.9885e-01  1.9975e-01  2.0195e-01  2.0375e-01]\n",
            " [ 2.0660e-01  2.0500e-01  2.0515e-01  2.0480e-01  2.0585e-01]\n",
            " [ 2.0605e-01  2.0610e-01  2.0630e-01  2.0580e-01  2.0605e-01]\n",
            " [ 2.1875e-01  2.1750e-01  2.2045e-01  2.2190e-01  2.1975e-01]\n",
            " [ 2.1995e-01  2.1990e-01  2.2025e-01  2.1955e-01  2.1965e-01]\n",
            " [ 2.2075e-01  2.2100e-01  2.2110e-01  2.2070e-01  2.2095e-01]\n",
            " [ 2.2060e-01  2.2100e-01  2.2080e-01  2.2065e-01  2.2050e-01]\n",
            " [ 2.2160e-01  2.2100e-01  2.2080e-01  2.2150e-01  2.2130e-01]\n",
            " [ 2.2395e-01  2.2560e-01  2.2470e-01  2.2425e-01  2.2485e-01]\n",
            " [ 2.2500e-01  2.2520e-01  2.2475e-01  2.2470e-01  2.2490e-01]\n",
            " [ 2.2505e-01  2.2475e-01  2.2435e-01  2.2475e-01  2.2515e-01]\n",
            " [ 2.2490e-01  2.2480e-01  2.2525e-01  2.2505e-01  2.2485e-01]\n",
            " [ 2.2460e-01  2.2450e-01  2.2430e-01  2.2485e-01  2.2560e-01]\n",
            " [ 2.2980e-01  2.2970e-01  2.2985e-01  2.2860e-01  2.2855e-01]\n",
            " [ 2.2890e-01  2.2930e-01  2.2910e-01  2.3050e-01  2.3050e-01]\n",
            " [ 2.3065e-01  2.3095e-01  2.3065e-01  2.3105e-01  2.3080e-01]\n",
            " [ 2.3340e-01  2.3210e-01  2.3355e-01  2.3120e-01  2.3225e-01]\n",
            " [ 2.3980e-01  2.3775e-01  2.3815e-01  2.3755e-01  2.3825e-01]\n",
            " [ 2.3660e-01  2.3825e-01  2.3765e-01  2.3810e-01  2.3785e-01]\n",
            " [ 2.3780e-01  2.3820e-01  2.3765e-01  2.3790e-01  2.3770e-01]\n",
            " [ 2.4565e-01  2.4455e-01  2.4610e-01  2.4515e-01  2.4450e-01]\n",
            " [ 2.4510e-01  2.4445e-01  2.4475e-01  2.4535e-01  2.4460e-01]\n",
            " [ 2.4425e-01  2.4435e-01  2.4450e-01  2.4435e-01  2.4475e-01]\n",
            " [ 2.4440e-01  2.4500e-01  2.4480e-01  2.4485e-01  2.4455e-01]\n",
            " [ 2.4460e-01  2.4425e-01  2.4500e-01  2.4440e-01  2.4460e-01]\n",
            " [ 2.4435e-01  2.4485e-01  2.4490e-01  2.4430e-01  2.4445e-01]\n",
            " [ 2.4610e-01  2.4495e-01  2.4665e-01  2.4620e-01  2.4660e-01]\n",
            " [ 2.4655e-01  2.4695e-01  2.4725e-01  2.4645e-01  2.4670e-01]\n",
            " [ 2.4650e-01  2.4685e-01  2.4675e-01  2.4720e-01  2.4725e-01]\n",
            " [ 2.4715e-01  2.4675e-01  2.4625e-01  2.4660e-01  2.4605e-01]\n",
            " [ 2.5355e-01  2.5530e-01  2.5490e-01  2.5770e-01  2.5450e-01]\n",
            " [ 2.5450e-01  2.5465e-01  2.5475e-01  2.5420e-01  2.5415e-01]\n",
            " [ 2.5460e-01  2.5470e-01  2.5455e-01  2.5400e-01  2.5410e-01]\n",
            " [ 2.6665e-01  2.6655e-01  2.6175e-01  2.6500e-01  2.6670e-01]\n",
            " [ 2.6660e-01  2.6600e-01  2.6635e-01  2.6610e-01  2.6625e-01]]\n",
            "\n",
            "p_vals:\n",
            "[0.96834637 0.95574346 0.9472884  0.94264347 0.94263053 0.93876589\n",
            " 0.9314611  0.93128251 0.93038419 0.92979545 0.92885163 0.90159822\n",
            " 0.89577691 0.89477608 0.89171097 0.89028134 0.87833218 0.64970252\n",
            " 0.63702933 0.63364622 0.63254446 0.63195075 0.63067745 0.62736018\n",
            " 0.6224949  0.34332897 0.32595413 0.32360546 0.27066236 0.26995493\n",
            " 0.26609916 0.26680149 0.2648447  0.25235975 0.25149793 0.25185683\n",
            " 0.25128272 0.25200047 0.23601202 0.23476584 0.23077523 0.22506347\n",
            " 0.20597177 0.20793331 0.20741775 0.18458739 0.18560912 0.18684586\n",
            " 0.1860007  0.18645317 0.18645317 0.18187001 0.17985587 0.17947241\n",
            " 0.18050596 0.15611282 0.15811509 0.15827818 0.13036204 0.12815668]\n",
            "\n",
            "mean:\n",
            "[0.00039 0.01405 0.02153 0.02524 0.02525 0.02816 0.03329 0.03341 0.03401\n",
            " 0.0344  0.03502 0.05071 0.05363 0.05412 0.0556  0.05628 0.06173 0.13123\n",
            " 0.13425 0.13505 0.13531 0.13545 0.13575 0.13653 0.13767 0.20124 0.20548\n",
            " 0.20606 0.21967 0.21986 0.2209  0.22071 0.22124 0.22467 0.22491 0.22481\n",
            " 0.22497 0.22477 0.2293  0.22966 0.23082 0.2325  0.2383  0.23769 0.23785\n",
            " 0.24519 0.24485 0.24444 0.24472 0.24457 0.24457 0.2461  0.24678 0.24691\n",
            " 0.24656 0.25519 0.25445 0.25439 0.26533 0.26626]\n",
            "\n",
            "std:\n",
            "[2.74590604e-04 9.48683298e-04 7.65898166e-04 7.39188745e-04\n",
            " 1.97484177e-04 1.49666295e-04 7.13021739e-04 2.80000000e-04\n",
            " 1.82756669e-04 2.81069386e-04 2.61916017e-04 1.18169370e-03\n",
            " 1.60000000e-04 1.74928557e-04 2.00000000e-04 1.32664992e-04\n",
            " 6.18546684e-04 3.47038903e-03 3.08220700e-04 1.78885438e-04\n",
            " 7.34846923e-05 2.42899156e-04 1.41421356e-04 2.78567766e-04\n",
            " 2.87402157e-04 1.74195293e-03 6.62268828e-04 1.59373775e-04\n",
            " 1.49284962e-03 2.45764115e-04 1.51657509e-04 1.74355958e-04\n",
            " 3.00665928e-04 5.64446632e-04 1.80000000e-04 2.80000000e-04\n",
            " 1.63095064e-04 4.51220567e-04 5.94138031e-04 6.97423831e-04\n",
            " 1.60000000e-04 8.74642784e-04 7.92464510e-04 5.82580467e-04\n",
            " 1.94935887e-04 6.20805928e-04 3.30151480e-04 1.74355958e-04\n",
            " 2.15870331e-04 2.52190404e-04 2.54165301e-04 6.14003257e-04\n",
            " 2.89136646e-04 2.81780056e-04 3.85227206e-04 1.38289551e-03\n",
            " 2.38746728e-04 2.83548938e-04 1.89910505e-03 2.08326667e-04]\n",
            "\n"
          ],
          "name": "stdout"
        }
      ]
    },
    {
      "cell_type": "markdown",
      "metadata": {
        "id": "qeyalDTXsdEl"
      },
      "source": [
        "Using softmax to normalize the permutation importance scores to sum up to 1."
      ]
    },
    {
      "cell_type": "code",
      "metadata": {
        "id": "s7fXtLJPp_SD"
      },
      "source": [
        "permutation_scores = {}\r\n",
        "permutation_scores['mean'] = softmax(scores['mean'])\r\n",
        "permutation_scores['p_vals'] = softmax(1 - scores['p_vals'])"
      ],
      "execution_count": 8,
      "outputs": []
    },
    {
      "cell_type": "markdown",
      "metadata": {
        "id": "nZgFB68hwgPS"
      },
      "source": [
        "Defining the fusion model"
      ]
    },
    {
      "cell_type": "code",
      "metadata": {
        "id": "bE04HxxMwSJY"
      },
      "source": [
        "\r\n",
        "def fusion_scores(*lists, weights=None):\r\n",
        "\t\"\"\"\r\n",
        "\tFusion scores of given lists of scores.\r\n",
        "\r\n",
        "\tParameters\r\n",
        "\t----------\r\n",
        "\t*lists : list , shape (n_features)\r\n",
        "\t    Scores lists to be fused.\r\n",
        "\tweights : list , shape (n_lists), default=None\r\n",
        "\t    Weights assigned to each list\r\n",
        "\t    \r\n",
        "\tReturns\r\n",
        "\t-------\r\n",
        "\tresult : list\r\n",
        "\t    a fused list\r\n",
        "\r\n",
        "\tReference\r\n",
        "\t---------\r\n",
        "\tC. C. Vogt and G. W. Cottrell:\r\n",
        "\t“Fusion via linear combination of scores.”\r\n",
        "\tInformation Retrieval, 1, 151–173 (1999) Kluwer Academic Publishers.\r\n",
        "\tManufactured in The Netherlands.\r\n",
        "\thttp://cseweb.ucsd.edu/~gary/pubs/info-retrieval-1999.pdf\r\n",
        "\t\"\"\"\r\n",
        "\r\n",
        "\tif not weights:\r\n",
        "\t\tweights = np.ones(len(lists))\r\n",
        "\telse:\r\n",
        "\t\tweights = np.array(weights)\r\n",
        "\tweights = np.expand_dims(weights, axis=1)\r\n",
        "\r\n",
        "\tfusion_scores = np.sum((np.multiply(*lists, weights)), axis=0)\r\n",
        "\treturn fusion_scores"
      ],
      "execution_count": 9,
      "outputs": []
    },
    {
      "cell_type": "markdown",
      "metadata": {
        "id": "Jrzy2L7Xwlls"
      },
      "source": [
        "Evaluating the performance of the various models given the ground truth we have from the data generation process"
      ]
    },
    {
      "cell_type": "code",
      "metadata": {
        "colab": {
          "base_uri": "https://localhost:8080/"
        },
        "id": "TigdzX6AJG0J",
        "outputId": "68456336-24f2-4d1b-c82b-519728f01500"
      },
      "source": [
        "def eval(ground_truth, fusion_scores):\r\n",
        "    return MSE(ground_truth, fusion_scores, squared=False)\r\n",
        "\r\n",
        "f_scores = fusion_scores(list(permutation_scores.values()), weights=[0.5, 0.5])\r\n",
        "\r\n",
        "models_scores = {\r\n",
        "                'classic PIMP': permutation_scores['mean'], \r\n",
        "                'p-value PIMP': permutation_scores['p_vals'],\r\n",
        "                'fusion PIMP': f_scores\r\n",
        "                 }\r\n",
        "\r\n",
        "for model_type, model_importances in models_scores.items():\r\n",
        "    MSE_scores = eval(true_importance, model_importances)\r\n",
        "    print(f'{model_type} MSE: {MSE_scores}\\n')\r\n"
      ],
      "execution_count": 10,
      "outputs": [
        {
          "output_type": "stream",
          "text": [
            "classic PIMP MSE: 0.03444363350305197\n",
            "\n",
            "p-value PIMP MSE: 0.0368190447419121\n",
            "\n",
            "fusion PIMP MSE: 0.03561195002966417\n",
            "\n"
          ],
          "name": "stdout"
        }
      ]
    }
  ]
}